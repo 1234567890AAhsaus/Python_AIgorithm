{
 "cells": [
  {
   "cell_type": "code",
   "execution_count": null,
   "id": "63001c63-cb93-476a-8bc6-e7893384e8ea",
   "metadata": {},
   "outputs": [],
   "source": [
    "import pandas as pd\n",
    "import numpy as np\n",
    "import matplotlib.pyplot as plt\n",
    "import seaborn as sns"
   ]
  },
  {
   "cell_type": "code",
   "execution_count": null,
   "id": "b7ee8ea2-c7c8-41f5-82f3-996937baf600",
   "metadata": {},
   "outputs": [],
   "source": [
    "original_titanic_train = pd.read_csv(\"titanic_train.csv\")\n",
    "original_titanic_train.head()"
   ]
  },
  {
   "cell_type": "code",
   "execution_count": null,
   "id": "549dcc7d-aca4-44b0-9e3e-005a44ea53d0",
   "metadata": {},
   "outputs": [],
   "source": [
    "cleaned_titanic_train = original_titanic_train.copy()"
   ]
  },
  {
   "cell_type": "code",
   "execution_count": null,
   "id": "1b5aea39-6215-4fad-8022-2b249c78e0af",
   "metadata": {},
   "outputs": [],
   "source": [
    "cleaned_titanic_train.head()"
   ]
  },
  {
   "cell_type": "code",
   "execution_count": null,
   "id": "d151828f-7d51-4e46-89e4-a2be43eaebc1",
   "metadata": {},
   "outputs": [],
   "source": [
    "cleaned_titanic_train.info()"
   ]
  },
  {
   "cell_type": "code",
   "execution_count": null,
   "id": "2c7789d1-d894-4421-aa43-12e74d1c77bc",
   "metadata": {},
   "outputs": [],
   "source": [
    "cleaned_titanic_train[cleaned_titanic_train['Age'].isna()]"
   ]
  },
  {
   "cell_type": "code",
   "execution_count": null,
   "id": "e02e8e6d-d1be-4d83-8ec8-01fa7793687c",
   "metadata": {},
   "outputs": [],
   "source": [
    "average_age = cleaned_titanic_train['Age'].mean()\n",
    "cleaned_titanic_train['Age'] = cleaned_titanic_train['Age'].fillna(average_age)\n",
    "cleaned_titanic_train['Age'].isna().sum()"
   ]
  },
  {
   "cell_type": "code",
   "execution_count": null,
   "id": "9630d754-2a69-40a7-9981-8bab4d13cfd6",
   "metadata": {},
   "outputs": [],
   "source": [
    "cleaned_titanic_train[cleaned_titanic_train['Cabin'].isna()]"
   ]
  },
  {
   "cell_type": "code",
   "execution_count": null,
   "id": "50c06ed4-d90f-4112-86f0-f230811ad829",
   "metadata": {},
   "outputs": [],
   "source": [
    "cleaned_titanic_train[cleaned_titanic_train['Embarked'].isna()]"
   ]
  },
  {
   "cell_type": "code",
   "execution_count": null,
   "id": "354eab0b-5546-4b9d-8047-d058b79f143b",
   "metadata": {},
   "outputs": [],
   "source": [
    "cleaned_titanic_train[\"PassengerId\"].duplicated().sum()"
   ]
  },
  {
   "cell_type": "code",
   "execution_count": null,
   "id": "d1d2ed53-52e7-4e24-8883-77b556f0505f",
   "metadata": {},
   "outputs": [],
   "source": [
    "cleaned_titanic_train[\"Survived\"].value_counts()"
   ]
  },
  {
   "cell_type": "code",
   "execution_count": null,
   "id": "6e277a00-02e8-4e79-84fe-6127a34fc566",
   "metadata": {},
   "outputs": [],
   "source": [
    "cleaned_titanic_train[\"Pclass\"].value_counts()"
   ]
  },
  {
   "cell_type": "code",
   "execution_count": null,
   "id": "fff855bb-bf54-471d-a73f-77a30cf3065a",
   "metadata": {},
   "outputs": [],
   "source": [
    "cleaned_titanic_train[\"Sex\"].value_counts()"
   ]
  },
  {
   "cell_type": "code",
   "execution_count": null,
   "id": "d678daac-efac-4c54-bbdb-17a8596fee5d",
   "metadata": {},
   "outputs": [],
   "source": [
    "cleaned_titanic_train[\"Embarked\"].value_counts()"
   ]
  },
  {
   "cell_type": "code",
   "execution_count": null,
   "id": "16908cd2-c125-47bb-b0c2-b99e209a61c2",
   "metadata": {},
   "outputs": [],
   "source": [
    "cleaned_titanic_train.describe()"
   ]
  },
  {
   "cell_type": "code",
   "execution_count": null,
   "id": "2f88f9d1-8d87-4307-8e5f-8a16586689ff",
   "metadata": {},
   "outputs": [],
   "source": [
    "cleaned_titanic_train['FamilyNum'] = cleaned_titanic_train['Parch'] + cleaned_titanic_train['SibSp'] + cleaned_titanic_train['Parch']\n",
    "cleaned_titanic_train.head()"
   ]
  },
  {
   "cell_type": "code",
   "execution_count": null,
   "id": "c3da6d95-0559-4ff1-a55d-69fd74699168",
   "metadata": {},
   "outputs": [],
   "source": [
    "sns.set_palette(\"pastel\")"
   ]
  },
  {
   "cell_type": "code",
   "execution_count": null,
   "id": "ebcc7625-e950-46ec-8f3c-1e6e6832720a",
   "metadata": {},
   "outputs": [],
   "source": [
    "plt.rcParams[\"figure.figsize\"] = [7.00, 3.50]\n",
    "plt.rcParams[\"figure.autolayout\"] = True"
   ]
  },
  {
   "cell_type": "code",
   "execution_count": null,
   "id": "1096bf1f-6ae5-4555-bff8-d58605b4b6f7",
   "metadata": {},
   "outputs": [],
   "source": [
    "survived_count = cleaned_titanic_train['Survived'].value_counts()\n",
    "survived_label = survived_count.index\n",
    "plt.pie(survived_count, labels = survived_label, autopct = '%.1f%%')\n",
    "plt.show()"
   ]
  },
  {
   "cell_type": "code",
   "execution_count": null,
   "id": "0f80b5f0-1239-46aa-8982-e2988b377ea8",
   "metadata": {},
   "outputs": [],
   "source": [
    "figure, axes = plt.subplots(1, 2)\n",
    "sns.histplot(cleaned_titanic_train, x = 'Age', ax = axes[0])\n",
    "sns.boxplot(cleaned_titanic_train, y = 'Age', ax = axes[1])\n",
    "plt.show()"
   ]
  },
  {
   "cell_type": "code",
   "execution_count": null,
   "id": "c2712871-6193-43a4-9459-41f575bd6591",
   "metadata": {},
   "outputs": [],
   "source": [
    "sns.histplot(cleaned_titanic_train, x = 'Age', hue = 'Survived', alpha = 0.4)\n",
    "plt.show()"
   ]
  },
  {
   "cell_type": "code",
   "execution_count": null,
   "id": "cbabf3b0-90be-4bfb-8d87-1c16419a750f",
   "metadata": {},
   "outputs": [],
   "source": [
    "figure, axes = plt.subplots(1, 2, figsize = [15, 7])\n",
    "sns.histplot(cleaned_titanic_train, x = 'Fare', ax = axes[0])\n",
    "sns.boxplot(cleaned_titanic_train, y = 'Fare', ax = axes[1])\n",
    "plt.show()"
   ]
  },
  {
   "cell_type": "code",
   "execution_count": null,
   "id": "43dbc864-7baa-4480-b6cb-a4e0d49d5d22",
   "metadata": {},
   "outputs": [],
   "source": [
    "plt.subplots(1, 1, figsize = [12, 5])\n",
    "sns.histplot(cleaned_titanic_train, x = 'Fare', hue = 'Survived', alpha = 0.4)\n",
    "plt.show()"
   ]
  },
  {
   "cell_type": "code",
   "execution_count": null,
   "id": "92fe800c-b9d9-4f8d-ae75-41259db9b9fc",
   "metadata": {},
   "outputs": [],
   "source": [
    "figure, axes = plt.subplots(1, 2)\n",
    "pclass_count = cleaned_titanic_train['Pclass'].value_counts()\n",
    "pclass_label = pclass_count.index\n",
    "axes[0].pie(pclass_count, labels = pclass_label)\n",
    "sns.countplot(cleaned_titanic_train, x = 'Pclass', hue = 'Survived', ax = axes[1])\n",
    "plt.show()"
   ]
  },
  {
   "cell_type": "code",
   "execution_count": null,
   "id": "8d3cda7d-f388-4168-b805-74cd5a3cba6d",
   "metadata": {},
   "outputs": [],
   "source": [
    "figure, axes = plt.subplots(1, 2)\n",
    "sex_count = cleaned_titanic_train['Sex'].value_counts()\n",
    "sex_label = sex_count.index\n",
    "axes[0].pie(sex_count, labels = sex_label)\n",
    "sns.countplot(cleaned_titanic_train, x = 'Survived', hue = 'Sex', ax = axes[1])\n",
    "plt.show()"
   ]
  },
  {
   "cell_type": "code",
   "execution_count": null,
   "id": "510a3761-ffea-4120-90f2-72c94dbdef06",
   "metadata": {},
   "outputs": [],
   "source": [
    "figure, axes = plt.subplots(1, 2)\n",
    "embarked_count = cleaned_titanic_train['Embarked'].value_counts()\n",
    "embarked_label = embarked_count.index\n",
    "axes[0].pie(embarked_count, labels = embarked_label)\n",
    "sns.countplot(cleaned_titanic_train, x = 'Embarked', hue = 'Survived', ax = axes[1])\n",
    "plt.show()"
   ]
  },
  {
   "cell_type": "code",
   "execution_count": null,
   "id": "1e46f8b1-4b42-4096-82b0-33d5b59a1351",
   "metadata": {},
   "outputs": [],
   "source": [
    "figure, axes = plt.subplots(1, 2)\n",
    "familyNum_count = cleaned_titanic_train['FamilyNum'].value_counts()\n",
    "familyNum_label = familyNum_count.index\n",
    "axes[0].pie(familyNum_count, labels = familyNum_label)\n",
    "sns.countplot(cleaned_titanic_train, x = 'FamilyNum', hue = 'Survived', ax = axes[1])\n",
    "plt.show()"
   ]
  },
  {
   "cell_type": "code",
   "execution_count": null,
   "id": "8dee07e2-7807-4e69-b6e6-c16ffedb259f",
   "metadata": {},
   "outputs": [],
   "source": [
    "cleaned_titanic_train.info()"
   ]
  },
  {
   "cell_type": "code",
   "execution_count": null,
   "id": "f6b24ef1-d2c5-4354-8f03-20b57c69af4b",
   "metadata": {},
   "outputs": [],
   "source": [
    "import statsmodels.api as sm"
   ]
  },
  {
   "cell_type": "code",
   "execution_count": null,
   "id": "c87fb450-8fcf-4f11-adaf-baf32a296689",
   "metadata": {},
   "outputs": [],
   "source": [
    "lr_titanic_train = cleaned_titanic_train.copy()\n",
    "lr_titanic_train.head()"
   ]
  },
  {
   "cell_type": "code",
   "execution_count": null,
   "id": "4ae69175-2b5d-419d-9923-43ac2cf340b9",
   "metadata": {},
   "outputs": [],
   "source": [
    "lr_titanic_train = lr_titanic_train.drop(['PassengerId', 'Name', 'Ticket', 'Cabin', 'Embarked'], axis=1)\n",
    "lr_titanic_train.head()"
   ]
  },
  {
   "cell_type": "code",
   "execution_count": null,
   "id": "e7b97ffb-3c81-4c7e-9ddc-4e62d3087f8a",
   "metadata": {},
   "outputs": [],
   "source": [
    "lr_titanic_train = pd.get_dummies(lr_titanic_train, drop_first = True, columns = ['Pclass', 'Sex'], dtype = int)\n",
    "lr_titanic_train.head()"
   ]
  },
  {
   "cell_type": "code",
   "execution_count": null,
   "id": "3d56de51-ec86-40bd-a7c5-a12cca7df545",
   "metadata": {},
   "outputs": [],
   "source": [
    "y = lr_titanic_train['Survived']"
   ]
  },
  {
   "cell_type": "code",
   "execution_count": null,
   "id": "adc40016-6af1-4a6c-97f7-4a30de4cdccc",
   "metadata": {},
   "outputs": [],
   "source": [
    "X = lr_titanic_train.drop(['Survived'], axis = 1)\n",
    "X.corr()"
   ]
  },
  {
   "cell_type": "code",
   "execution_count": null,
   "id": "f490dacc-7881-4b8a-8745-5207bbc6a2b6",
   "metadata": {},
   "outputs": [],
   "source": [
    "X.corr().abs() > 0.8"
   ]
  },
  {
   "cell_type": "code",
   "execution_count": null,
   "id": "cb3ec515-0468-4d81-8c91-dea8b4e9e2d9",
   "metadata": {},
   "outputs": [],
   "source": [
    "X = X.drop(['Parch', 'SibSp'], axis = 1)"
   ]
  },
  {
   "cell_type": "code",
   "execution_count": null,
   "id": "5291e4d9-c006-4dbd-b9e9-6adcad047e6a",
   "metadata": {},
   "outputs": [],
   "source": [
    "X = sm.add_constant(X)"
   ]
  },
  {
   "cell_type": "code",
   "execution_count": null,
   "id": "b6ff0ba3-e41b-4e47-80ad-202cd8c9aace",
   "metadata": {},
   "outputs": [],
   "source": [
    "model = sm.Logit(y, X).fit()\n",
    "model.summary()"
   ]
  },
  {
   "cell_type": "code",
   "execution_count": null,
   "id": "2cd21f92-2568-4381-9927-033c8aacf1d9",
   "metadata": {},
   "outputs": [],
   "source": [
    "X = X.drop(['Fare'], axis = 1)"
   ]
  },
  {
   "cell_type": "code",
   "execution_count": null,
   "id": "c9345c2b-dbb7-438b-8305-20bc67a89c76",
   "metadata": {},
   "outputs": [],
   "source": [
    "model = sm.Logit(y, X).fit()\n",
    "model.summary()"
   ]
  },
  {
   "cell_type": "code",
   "execution_count": null,
   "id": "07b8ce1a-2d51-40a4-8042-37971d59b8d1",
   "metadata": {},
   "outputs": [],
   "source": [
    "# Age\n",
    "np.exp(-0.0395)"
   ]
  },
  {
   "cell_type": "code",
   "execution_count": null,
   "id": "39e48d52-86a2-4598-86ac-902a5ed0c150",
   "metadata": {},
   "outputs": [],
   "source": [
    "# FamilyNum\n",
    "np.exp(-0.2186)"
   ]
  },
  {
   "cell_type": "code",
   "execution_count": null,
   "id": "3f39a2bc-b7aa-413d-a1ba-d13fdacef72c",
   "metadata": {},
   "outputs": [],
   "source": [
    "# Pclass_2\n",
    "np.exp(-1.1798)"
   ]
  },
  {
   "cell_type": "code",
   "execution_count": null,
   "id": "8ffbee09-b2a8-4875-b883-e93789c4032e",
   "metadata": {},
   "outputs": [],
   "source": [
    "# Pclass_3\n",
    "np.exp(-2.3458)"
   ]
  },
  {
   "cell_type": "code",
   "execution_count": null,
   "id": "e135220e-97ae-4922-8caf-cb1f2422c2b4",
   "metadata": {},
   "outputs": [],
   "source": [
    "# Sex_male\n",
    "np.exp(-2.7854)"
   ]
  },
  {
   "cell_type": "code",
   "execution_count": null,
   "id": "1ff7a649-4b49-49c2-ab2a-8eb0ba92f344",
   "metadata": {},
   "outputs": [],
   "source": [
    "titanic_test = pd.read_csv(\"titanic_test.csv\")\n",
    "titanic_test.head()"
   ]
  },
  {
   "cell_type": "code",
   "execution_count": null,
   "id": "12dbdb5d-f8f6-42a8-a379-681f688ee4f9",
   "metadata": {},
   "outputs": [],
   "source": [
    "titanic_test.info()"
   ]
  },
  {
   "cell_type": "code",
   "execution_count": null,
   "id": "a11e5a33-3474-49aa-a8f9-37ee8882e785",
   "metadata": {},
   "outputs": [],
   "source": [
    "titanic_test['Age'] = titanic_test['Age'].fillna(titanic_test['Age'].mean())\n",
    "titanic_test['Age'].isna().sum()"
   ]
  },
  {
   "cell_type": "code",
   "execution_count": null,
   "id": "178e3c14-7ceb-42a5-ab8a-4ce9b0d03000",
   "metadata": {},
   "outputs": [],
   "source": [
    "titanic_test['Pclass'] = pd.Categorical(titanic_test['Pclass'], categories=['1', '2', '3'])\n",
    "titanic_test['Sex'] = pd.Categorical(titanic_test['Sex'], categories = ['female', 'male'])\n",
    "titanic_test['Embarked'] = pd.Categorical(titanic_test['Embarked'], categories = ['C', 'Q', 'S'])"
   ]
  },
  {
   "cell_type": "code",
   "execution_count": null,
   "id": "6951b9d7-5112-44d2-ad95-62e80d279fc3",
   "metadata": {},
   "outputs": [],
   "source": [
    "titanic_test = pd.get_dummies(titanic_test, drop_first = True, columns = ['Pclass', 'Sex'], dtype = int)\n",
    "titanic_test.head()"
   ]
  },
  {
   "cell_type": "code",
   "execution_count": null,
   "id": "efbe10ad-1077-42e1-9cb1-3f8b2d49de39",
   "metadata": {},
   "outputs": [],
   "source": [
    "model.params"
   ]
  },
  {
   "cell_type": "code",
   "execution_count": null,
   "id": "67ec9e29-8faf-46fb-8a22-b3bd895d3a9f",
   "metadata": {},
   "outputs": [],
   "source": [
    "titanic_test['FamilyNum'] = titanic_test['SibSp'] + titanic_test['Parch']\n",
    "titanic_test.head()"
   ]
  },
  {
   "cell_type": "code",
   "execution_count": null,
   "id": "b3f5a703-77df-4417-ad73-9ae770756c6d",
   "metadata": {},
   "outputs": [],
   "source": [
    "X_test = titanic_test[['Age', 'FamilyNum', 'Pclass_2', 'Pclass_3', 'Sex_male']]\n",
    "X_test = sm.add_constant(X_test)"
   ]
  },
  {
   "cell_type": "code",
   "execution_count": null,
   "id": "5c74e92f-4a4c-4045-beea-70f867b9d5d0",
   "metadata": {},
   "outputs": [],
   "source": [
    "predicted_value = model.predict(X_test)\n",
    "predicted_value"
   ]
  },
  {
   "cell_type": "code",
   "execution_count": null,
   "id": "ff373434-1721-4440-9a4a-c2f31c04e1bc",
   "metadata": {},
   "outputs": [],
   "source": [
    "predicted_value > 0.5"
   ]
  },
  {
   "cell_type": "code",
   "execution_count": null,
   "id": "26615057-746b-48cb-b7cf-7cbf34e6c35c",
   "metadata": {},
   "outputs": [],
   "source": []
  }
 ],
 "metadata": {
  "kernelspec": {
   "display_name": "Python 3 (ipykernel)",
   "language": "python",
   "name": "python3"
  },
  "language_info": {
   "codemirror_mode": {
    "name": "ipython",
    "version": 3
   },
   "file_extension": ".py",
   "mimetype": "text/x-python",
   "name": "python",
   "nbconvert_exporter": "python",
   "pygments_lexer": "ipython3",
   "version": "3.11.8"
  }
 },
 "nbformat": 4,
 "nbformat_minor": 5
}
