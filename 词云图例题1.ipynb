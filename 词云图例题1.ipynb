{
 "cells": [
  {
   "cell_type": "code",
   "execution_count": null,
   "id": "c8ff6457-5b6c-4b41-bb00-38b4d1a97050",
   "metadata": {},
   "outputs": [],
   "source": [
    "import pandas as pd\n",
    "data = pd.read_csv('2024“中促杯”全国大学生数据分析大赛例题数据.csv')\n",
    "data.head()"
   ]
  },
  {
   "cell_type": "code",
   "execution_count": null,
   "id": "e6159ec6-089e-4ff5-8daf-358ec4122715",
   "metadata": {},
   "outputs": [],
   "source": [
    "import re\n",
    "data['citys'] = data['citys'].apply(lambda x: re.findall(r'[^\"\\\\[\\]]+', str(x))[0] if re.findall(r'[^\"\\\\[\\]]+', str(x)) else None)\n",
    "data['scores'] = data['scores'].apply(lambda x: int(re.findall(r'[0-9]+', str(x))[0]) if re.findall(r'[0-9]+', str(x)) else None)\n",
    "data['content'] = data['content'].apply(lambda x: re.sub(r'[^\\u4E00-\\u9FD5]+', ',', str(x)) if x is not None else None)\n",
    "data"
   ]
  },
  {
   "cell_type": "code",
   "execution_count": null,
   "id": "e477556b-7b6e-4516-90c7-7b87b33cee32",
   "metadata": {},
   "outputs": [],
   "source": [
    "import matplotlib.pyplot as plt\n",
    "num = data['scores'].value_counts()\n",
    "\n",
    "plt.figure(figsize = (4,4))\n",
    "plt.rcParams['font.sans-serif'] = 'Simhei'\n",
    "plt.pie(num, autopct=\"%.2f%%\", labels=num.index)\n",
    "plt.title('《流浪地球》豆瓣评分分布表')\n",
    "plt.show()"
   ]
  },
  {
   "cell_type": "code",
   "execution_count": null,
   "id": "f35fe889-6b82-4635-ad95-9ee7c34793a5",
   "metadata": {},
   "outputs": [],
   "source": [
    "num = data['times'].apply(lambda x:x.split()[0]).value_counts()\n",
    "num2 = num.sort_index()\n",
    "\n",
    "plt.figure(figsize=(8,5))\n",
    "plt.plot(range(len(num2)),num2)\n",
    "plt.xticks(range(len(num2)),num2.index,rotation = 45)\n",
    "plt.title('评论数量随日期的变化图')\n",
    "plt.grid()\n",
    "plt.show()"
   ]
  },
  {
   "cell_type": "code",
   "execution_count": null,
   "id": "9c307a4f-20aa-4501-96bc-9e531edcc726",
   "metadata": {},
   "outputs": [],
   "source": [
    "num = pd.to_datetime(data['times']).apply(lambda x:x.hour).value_counts()\n",
    "num2 = num.sort_index()\n",
    "plt.plot(num2.index, num2)\n",
    "plt.grid()\n",
    "plt.xticks(num2.index, num2.index)\n",
    "plt.title('评论数量随时刻的变化图')\n",
    "plt.show()"
   ]
  },
  {
   "cell_type": "code",
   "execution_count": null,
   "id": "7e543970-6c0f-4087-8bd2-1c3bef6f790d",
   "metadata": {},
   "outputs": [],
   "source": [
    "data['date'] = data['times'].apply(lambda x: x.split()[0])\n",
    "tmp = pd.DataFrame(0, columns=data['scores'].astype(str).drop_duplicates().sort_values(),\n",
    "                   index=data['date'].drop_duplicates())\n",
    "tmp.sort_index(inplace = True)\n",
    "\n",
    "for i,j in zip(data['scores'], data['date']):\n",
    "    tmp.loc[j,str(i)] += 1\n",
    "\n",
    "plt.figure(figsize = (8,4))\n",
    "(n, m) = tmp.shape\n",
    "plt.rcParams['axes.unicode_minus'] = False\n",
    "for i in range(0, m-1):\n",
    "    plt.plot(range(n),(1 if i>=2 else -1)*tmp.iloc[:,i])\n",
    "    plt.fill_between(range(n), (1 if i>=2 else -1)*tmp.iloc[:,i], alpha = 0.5)\n",
    "plt.legend(tmp.columns[:-1])\n",
    "plt.xticks(range(n),tmp.index, rotation=45)\n",
    "plt.title('评论评分随日期的变化图')\n",
    "plt.grid()\n",
    "plt.show()"
   ]
  },
  {
   "cell_type": "code",
   "execution_count": null,
   "id": "2d243ae2-6999-443b-bf82-58e8f2a7b0d6",
   "metadata": {},
   "outputs": [],
   "source": [
    "import matplotlib.pyplot as plt\n",
    "\n",
    "# 假设 data['citys'] 是一个包含城市名称的 pandas Series\n",
    "num = data['citys'].value_counts()\n",
    "\n",
    "# 设置字体，以便支持中文字符\n",
    "plt.rcParams['font.sans-serif'] = 'Simhei'\n",
    "\n",
    "# 绘制前十条评论数量最多的城市的条形图\n",
    "plt.bar(range(len(num[:10])), num[:10].values)\n",
    "\n",
    "# 设置 x 轴的刻度标签为城市名称，并将标签旋转45度\n",
    "plt.xticks(range(len(num[:10])), num[:10].index, rotation=45)\n",
    "\n",
    "# 设置图表标题\n",
    "plt.title('评论数量最多的前十个城市')\n",
    "\n",
    "# 添加网格线\n",
    "plt.grid()\n",
    "\n",
    "# 显示图表\n",
    "plt.show()"
   ]
  },
  {
   "cell_type": "code",
   "execution_count": null,
   "id": "bfd92ce8-830a-4e75-a592-41c66cbadc97",
   "metadata": {},
   "outputs": [],
   "source": [
    "import jieba\n",
    "import itertools\n",
    "from wordcloud import WordCloud\n",
    "\n",
    "with open('cn_stopwords.txt','r',encoding = 'utf-8') as f:\n",
    "    stop = f.read()\n",
    "stop = stop.split()\n",
    "stop = ['','\\n','这部'] + stop\n",
    "\n",
    "data_cut = data['content'].apply(jieba.lcut)\n",
    "\n",
    "data_after = data_cut.apply(\n",
    "    lambda x:[i for i in x if i not in stop]\n",
    ")\n",
    "\n",
    "print(data_cut.head())\n",
    "print(data_after.head())"
   ]
  },
  {
   "cell_type": "code",
   "execution_count": null,
   "id": "4281d12b-ceb6-43e9-8cd4-023648afbd9a",
   "metadata": {},
   "outputs": [],
   "source": [
    "num = pd.Series(list(itertools.chain(*list(data_after)))).value_counts()\n",
    "\n",
    "pic = plt.imread('111.jpg')\n",
    "wc = WordCloud(font_path = './data/simhei.ttf', background_color = 'White', mask = pic)\n",
    "wc2 = wc.fit_words(num)\n",
    "\n",
    "plt.imshow(wc2)\n",
    "plt.axis('off')\n",
    "plt.show()"
   ]
  },
  {
   "cell_type": "code",
   "execution_count": null,
   "id": "4b238951-46d5-43f1-81ab-93e931a8b342",
   "metadata": {},
   "outputs": [],
   "source": [
    "data_good = data_after.loc[data['scores']>=30]\n",
    "data_bad = data_after.loc[data['scores']<30]\n",
    "\n",
    "def my_wc(data_after):\n",
    "    tmp = list(itertools.chain(*list(data_after)))\n",
    "    num = pd.Series(tmp).value_counts()\n",
    "    pic = plt.imread('111.jpg')\n",
    "    wc = WordCloud(background_color = 'White', font_path = './data/simhei.ttf', mask = pic)\n",
    "    wc2 = wc.fit_words(num)\n",
    "    plt.imshow(wc2)\n",
    "    plt.axis('off')\n",
    "    plt.show()\n",
    "\n",
    "my_wc(data_bad)\n",
    "my_wc(data_good)"
   ]
  },
  {
   "cell_type": "code",
   "execution_count": null,
   "id": "0bd4388d-6d93-4427-979d-a4c9c82901b9",
   "metadata": {},
   "outputs": [],
   "source": [
    "# 假设 data_good 和 data_bad 是包含文本数据的DataFrame\n",
    "data_new_good = pd.DataFrame()\n",
    "data_new_good['text'] = data_good.apply(lambda x:''.join(x))\n",
    "data_new_good['label'] = 1\n",
    "data_new_good.reset_index(inplace=True, drop=True)\n",
    "\n",
    "data_new_bad = pd.DataFrame()\n",
    "data_new_bad['text'] = data_bad.apply(lambda x:''.join(x))\n",
    "data_new_bad['label'] = 0\n",
    "data_new_bad.reset_index(inplace=True, drop=True)\n",
    "\n",
    "data_new = pd.concat([data_new_bad, data_new_good], axis=0)\n",
    "\n",
    "from sklearn.model_selection import train_test_split\n",
    "test_ratio = 0.2\n",
    "src_training, src_testing = train_test_split(data_new, test_size=test_ratio, stratify=data_new['label'], random_state=123)\n",
    "\n",
    "# 修正列名错误\n",
    "comments_train, comments_test = src_training['text'].values, src_testing['text'].values\n",
    "y_train, y_test = src_training['label'].values, src_testing['label'].values"
   ]
  },
  {
   "cell_type": "code",
   "execution_count": null,
   "id": "18827340-fdb1-4d88-b594-ffaf7c0b39a0",
   "metadata": {},
   "outputs": [],
   "source": [
    "from sklearn.feature_extraction.text import CountVectorizer\n",
    "from sklearn.feature_extraction.text import TfidfTransformer\n",
    "\n",
    "# 创建 CountVectorizer 和 TfidfTransformer 的实例\n",
    "count_vectorizer = CountVectorizer()\n",
    "tfidf_transformer = TfidfTransformer()\n",
    "\n",
    "# 使用实例方法 fit_transform 或 transform\n",
    "word_count_train = count_vectorizer.fit_transform(comments_train)\n",
    "tfidf_train = tfidf_transformer.fit_transform(word_count_train)\n",
    "\n",
    "word_count_test = count_vectorizer.transform(comments_test)\n",
    "tfidf_test = tfidf_transformer.transform(word_count_test)\n",
    "\n",
    "# 打印 TF-IDF 向量的形状\n",
    "\n",
    "print(tfidf_train.shape, tfidf_test.shape)\n"
   ]
  },
  {
   "cell_type": "code",
   "execution_count": null,
   "id": "52ec6c6d-40ec-4b38-8586-9350fb0ccb3b",
   "metadata": {},
   "outputs": [],
   "source": [
    "from sklearn.neighbors import KNeighborsClassifier\n",
    "from sklearn.metrics import accuracy_score\n",
    "knn = KNeighborsClassifier(n_neighbors = 8, weights = 'distance')\n",
    "knn.fit(tfidf_train, y_train)\n",
    "tfidf_y_pred = knn.predict(tfidf_test)\n",
    "\n",
    "print('tfidf_KNeighborsClassifier test accuracy %s'% accuracy_score(y_test, tfidf_y_pred))"
   ]
  }
 ],
 "metadata": {
  "kernelspec": {
   "display_name": "Python 3 (ipykernel)",
   "language": "python",
   "name": "python3"
  },
  "language_info": {
   "codemirror_mode": {
    "name": "ipython",
    "version": 3
   },
   "file_extension": ".py",
   "mimetype": "text/x-python",
   "name": "python",
   "nbconvert_exporter": "python",
   "pygments_lexer": "ipython3",
   "version": "3.11.8"
  }
 },
 "nbformat": 4,
 "nbformat_minor": 5
}
