{
 "cells": [
  {
   "cell_type": "markdown",
   "id": "398c4e99-f1a4-4199-b9fa-9dd17ac6b338",
   "metadata": {},
   "source": [
    "# 1 对直播带货商品进行统计分析与可视化"
   ]
  },
  {
   "cell_type": "code",
   "execution_count": null,
   "id": "960e4c8d-7070-458e-858d-b9efa87c8d38",
   "metadata": {},
   "outputs": [],
   "source": [
    "import pandas as pd\n",
    "\n",
    "# Load the CSV file into a DataFrame\n",
    "file_path = '选题数据.csv'\n",
    "df = pd.read_csv(file_path)\n",
    "\n",
    "# Display the first few rows of the DataFrame to understand its structure and content\n",
    "df.head()"
   ]
  },
  {
   "cell_type": "code",
   "execution_count": null,
   "id": "3c1a4a49-d6be-4acb-b505-391046497efc",
   "metadata": {},
   "outputs": [],
   "source": [
    "# Basic statistical analysis\n",
    "\n",
    "# Total sales quantity\n",
    "total_quantity = df['Quantity'].sum()\n",
    "\n",
    "# Total sales revenue\n",
    "total_revenue = (df['Quantity'] * df['Price']).sum()\n",
    "\n",
    "# Average price\n",
    "average_price = df['Price'].mean()\n",
    "\n",
    "# Product with the highest sales quantity\n",
    "top_product_by_quantity = df.groupby('Product')['Quantity'].sum().idxmax()\n",
    "top_product_quantity = df.groupby('Product')['Quantity'].sum().max()\n",
    "\n",
    "# Product with the highest sales revenue\n",
    "top_product_by_revenue = (df['Quantity'] * df['Price']).groupby(df['Product']).sum().idxmax()\n",
    "top_product_revenue = (df['Quantity'] * df['Price']).groupby(df['Product']).sum().max()\n",
    "\n",
    "# Sales quantity and revenue by country\n",
    "sales_by_country = df.groupby('Country')['Quantity'].sum()\n",
    "revenue_by_country = (df['Quantity'] * df['Price']).groupby(df['Country']).sum()\n",
    "\n",
    "total_quantity, total_revenue, average_price, top_product_by_quantity, top_product_quantity, top_product_by_revenue, top_product_revenue, sales_by_country, revenue_by_country"
   ]
  },
  {
   "cell_type": "code",
   "execution_count": null,
   "id": "92794528-fb2c-46bf-a798-cea200f7f99d",
   "metadata": {},
   "outputs": [],
   "source": [
    "import matplotlib.pyplot as plt\n",
    "\n",
    "plt.rcParams['font.sans-serif'] = 'Simhei'\n",
    "\n",
    "# Set up the matplotlib figure\n",
    "fig, axes = plt.subplots(nrows=2, ncols=2, figsize=(15, 10))\n",
    "fig.suptitle('直播带货商品统计分析', fontsize=16)\n",
    "\n",
    "# Sales quantity and revenue by country\n",
    "sales_by_country.plot(kind='bar', ax=axes[0,0], color='skyblue')\n",
    "axes[0,0].set_title('各国销售量')\n",
    "axes[0,0].set_xlabel('国家')\n",
    "axes[0,0].set_ylabel('销售量')\n",
    "\n",
    "revenue_by_country.plot(kind='bar', ax=axes[0,1], color='lightgreen')\n",
    "axes[0,1].set_title('各国销售额')\n",
    "axes[0,1].set_xlabel('国家')\n",
    "axes[0,1].set_ylabel('销售额')\n",
    "\n",
    "# Top 10 products by sales quantity\n",
    "top_products_quantity = df.groupby('Product')['Quantity'].sum().sort_values(ascending=False).head(10)\n",
    "top_products_quantity.plot(kind='barh', ax=axes[1,0], color='salmon')\n",
    "axes[1,0].set_title('销售量最多的前10种产品')\n",
    "axes[1,0].set_xlabel('销售量')\n",
    "axes[1,0].set_ylabel('产品名称')\n",
    "\n",
    "# Top 10 products by sales revenue\n",
    "top_products_revenue = (df['Quantity'] * df['Price']).groupby(df['Product']).sum().sort_values(ascending=False).head(10)\n",
    "top_products_revenue.plot(kind='barh', ax=axes[1,1], color='orchid')\n",
    "axes[1,1].set_title('销售额最多的前10种产品')\n",
    "axes[1,1].set_xlabel('销售额')\n",
    "axes[1,1].set_ylabel('产品名称')\n",
    "\n",
    "# Adjust layout\n",
    "plt.tight_layout(rect=[0, 0.03, 1, 0.95])\n",
    "\n",
    "# Show the plot\n",
    "plt.show()"
   ]
  },
  {
   "cell_type": "code",
   "execution_count": null,
   "id": "1c48310b-0929-46b5-9bdf-2d1aeb40809f",
   "metadata": {},
   "outputs": [],
   "source": [
    "# Find the top 10 customers with the highest total quantity of purchases\n",
    "top_customers_by_quantity = df.groupby('CustomerID')['Quantity'].sum().sort_values(ascending=False).head(10)\n",
    "\n",
    "# Set up the matplotlib figure for the top 10 customers by quantity\n",
    "fig, ax = plt.subplots(figsize=(10, 6))\n",
    "fig.suptitle('购买直播带货商品总数最多的顾客前十名', fontsize=16)\n",
    "\n",
    "# Plot the top 10 customers by quantity\n",
    "top_customers_by_quantity.plot(kind='barh', ax=ax, color='lightblue')\n",
    "ax.set_title('购买直播带货商品总数最多的顾客前十名')\n",
    "ax.set_xlabel('购买数量')\n",
    "ax.set_ylabel('顾客ID')\n",
    "\n",
    "# Show the plot\n",
    "plt.show()"
   ]
  },
  {
   "cell_type": "code",
   "execution_count": null,
   "id": "87b923c9-f8b6-4945-abb1-69ce4480a1d3",
   "metadata": {},
   "outputs": [],
   "source": [
    "# Find the top 10 countries with the highest total quantity of purchases\n",
    "top_countries_by_quantity = df.groupby('Country')['Quantity'].sum().sort_values(ascending=False).head(10)\n",
    "\n",
    "# Set up the matplotlib figure for the top 10 countries by quantity\n",
    "fig, ax = plt.subplots(figsize=(10, 6))\n",
    "fig.suptitle('购买直播带货商品总数最多的国家前十名', fontsize=16)\n",
    "\n",
    "# Plot the top 10 countries by quantity\n",
    "top_countries_by_quantity.plot(kind='barh', ax=ax, color='lightgreen')\n",
    "ax.set_title('购买直播带货商品总数最多的国家前十名')\n",
    "ax.set_xlabel('购买数量')\n",
    "ax.set_ylabel('国家')\n",
    "\n",
    "# Show the plot\n",
    "plt.show()"
   ]
  },
  {
   "cell_type": "code",
   "execution_count": null,
   "id": "15dc9fa7-72b5-4e70-8f36-f2528ab4c693",
   "metadata": {},
   "outputs": [],
   "source": [
    "import pandas as pd\n",
    "import matplotlib.pyplot as plt\n",
    "\n",
    "# 假设df是你的DataFrame，且包含'Date'和'Quantity'两列\n",
    "# 确保'Date'列的数据格式是统一的，比如'%m/%d/%Y %H:%M'\n",
    "\n",
    "# 转换'Date'列到datetime格式，注意使用正确的格式化字符串\n",
    "df['Date'] = pd.to_datetime(df['Date'], format='mixed', dayfirst=False, errors='coerce')\n",
    "\n",
    "# 提取小时部分\n",
    "df['Hour'] = df['Date'].dt.hour\n",
    "\n",
    "# 按小时分组并求'Quantity'的总和，重新索引以确保涵盖0-23每一个小时，无数据的填充为0\n",
    "purchases_by_hour = df.groupby('Hour')['Quantity'].sum().reindex(range(24), fill_value=0)\n",
    "\n",
    "# 设置matplotlib图形\n",
    "fig, ax = plt.subplots(figsize=(10, 6))\n",
    "fig.suptitle('购买直播带货商品的时间段分布', fontsize=16)\n",
    "\n",
    "# 绘制每小时购买数量的柱状图\n",
    "purchases_by_hour.plot(kind='bar', ax=ax, color='orange')\n",
    "ax.set_title('购买直播带货商品的时间段分布')\n",
    "ax.set_xlabel('小时')\n",
    "ax.set_ylabel('购买数量')\n",
    "# 确保x轴标签显示正确\n",
    "ax.set_xticks(range(24))\n",
    "ax.set_xticklabels([f\"{hour}:00\" for hour in range(24)]) # 更友好的时间展示\n",
    "\n",
    "# 显示图表\n",
    "plt.tight_layout() # 自动调整子图参数, 使之填充整个图像区域\n",
    "plt.show()"
   ]
  },
  {
   "cell_type": "code",
   "execution_count": null,
   "id": "21b4ee22-8a89-4fb2-9206-83eba314c12e",
   "metadata": {},
   "outputs": [],
   "source": [
    "# Filter the data to include only prices below 200\n",
    "df_filtered = df[df['Price'] < 200]\n",
    "\n",
    "# Group by price and count the number of purchases for each price\n",
    "purchases_by_price_filtered = df_filtered.groupby('Price')['Quantity'].count().sort_index()\n",
    "\n",
    "# Set up the matplotlib figure for the distribution of purchases by price (0-200)\n",
    "fig, ax = plt.subplots(figsize=(10, 6))\n",
    "fig.suptitle('直播带货商品的价格分布（0-200元）', fontsize=16)\n",
    "\n",
    "# Plot the distribution of purchases by price\n",
    "purchases_by_price_filtered.plot(kind='line', ax=ax, color='red')\n",
    "ax.set_title('直播带货商品的价格分布（0-200元）')\n",
    "ax.set_xlabel('价格')\n",
    "ax.set_ylabel('购买数量')\n",
    "\n",
    "# Set the x-axis limits to 0-200\n",
    "ax.set_xlim(0, 200)\n",
    "\n",
    "# Show the plot\n",
    "plt.show()\n"
   ]
  },
  {
   "cell_type": "markdown",
   "id": "70f8dc93-d2fc-4b15-b743-03d144c090c0",
   "metadata": {},
   "source": [
    "# 2.构建顾客属性，消费水平和消费偏好等标签，并绘制顾客图像"
   ]
  },
  {
   "cell_type": "markdown",
   "id": "5ce162a9-240a-48ff-99a9-b9512de74b25",
   "metadata": {},
   "source": [
    "## 属性分析：这可能包括年龄、性别、地理位置等人口统计信息。\n",
    "## 消费水平分析：这可以通过分析顾客的平均消费金额、购买频率等来实现。\n",
    "## 消费偏好分析：这可以通过分析顾客购买的商品类别、品牌偏好等来实现。"
   ]
  },
  {
   "cell_type": "code",
   "execution_count": null,
   "id": "233ef78d-d4ef-40a4-921e-31b71b980a42",
   "metadata": {},
   "outputs": [],
   "source": [
    "data = df\n",
    "# 分析每位顾客的平均消费金额\n",
    "average_spending = data.groupby('CustomerID')['Price'].mean().reset_index()\n",
    "average_spending.columns = ['CustomerID', 'AverageSpending']\n",
    "\n",
    "# 分析购买频率\n",
    "purchase_frequency = data.groupby('CustomerID')['EventID'].count().reset_index()\n",
    "purchase_frequency.columns = ['CustomerID', 'PurchaseFrequency']\n",
    "\n",
    "# 分析商品偏好\n",
    "# 我们将计算每个顾客购买最多的商品类别\n",
    "product_preferences = data.groupby(['CustomerID', 'Product'])['Quantity'].sum().reset_index()\n",
    "# 对于每个CustomerID，选择Quantity最大的记录作为其偏好\n",
    "product_preferences = product_preferences.loc[product_preferences.groupby('CustomerID')['Quantity'].idxmax()]\n",
    "product_preferences = product_preferences[['CustomerID', 'Product']]\n",
    "\n",
    "# 将上述结果合并为一个DataFrame\n",
    "customer_analysis = average_spending.merge(purchase_frequency, on='CustomerID')\n",
    "customer_analysis = customer_analysis.merge(product_preferences, on='CustomerID')\n",
    "\n",
    "# 显示分析结果的前几行\n",
    "customer_analysis.head()"
   ]
  },
  {
   "cell_type": "code",
   "execution_count": null,
   "id": "08e7344c-7099-477a-994f-82092e1a6570",
   "metadata": {},
   "outputs": [],
   "source": [
    "# 根据平均消费金额对顾客进行分类\n",
    "# 我们将使用三分位数来定义低、中、高消费\n",
    "spending_quartiles = customer_analysis['AverageSpending'].quantile([0.33, 0.66])\n",
    "customer_analysis['SpendingCategory'] = pd.cut(customer_analysis['AverageSpending'],\n",
    "                                               bins=[0, spending_quartiles[0.33], spending_quartiles[0.66], float('inf')],\n",
    "                                               labels=['Low', 'Medium', 'High'])\n",
    "\n",
    "# 根据购买频率对顾客进行分类\n",
    "# 同样使用三分位数来定义偶尔、一般、频繁购买\n",
    "frequency_quartiles = customer_analysis['PurchaseFrequency'].quantile([0.33, 0.66])\n",
    "customer_analysis['FrequencyCategory'] = pd.cut(customer_analysis['PurchaseFrequency'],\n",
    "                                                bins=[0, frequency_quartiles[0.33], frequency_quartiles[0.66], float('inf')],\n",
    "                                                labels=['Occasional', 'Regular', 'Frequent'])\n",
    "\n",
    "# 显示分类结果的前几行\n",
    "customer_analysis[['CustomerID', 'AverageSpending', 'SpendingCategory', 'PurchaseFrequency', 'FrequencyCategory', 'Product']].head()\n"
   ]
  },
  {
   "cell_type": "code",
   "execution_count": null,
   "id": "3bde4704-051e-4216-b69c-d2cc4419a4b9",
   "metadata": {},
   "outputs": [],
   "source": [
    "# 在进行拼接操作之前，将'Categorical'类型的列转换为'str'\n",
    "customer_analysis['SpendingCategory'] = customer_analysis['SpendingCategory'].astype(str)\n",
    "customer_analysis['FrequencyCategory'] = customer_analysis['FrequencyCategory'].astype(str)\n",
    "\n",
    "# 现在可以安全地拼接两个字符串了\n",
    "customer_analysis['CustomerCategory'] = customer_analysis['SpendingCategory'] + ' ' + customer_analysis['FrequencyCategory']\n",
    "\n",
    "# 继续执行后续的映射和显示操作 ...\n",
    "# 综合消费金额和购买频率的分类，创建一个新的综合分类列\n",
    "customer_analysis['CustomerCategory'] = customer_analysis['SpendingCategory'] + ' ' + customer_analysis['FrequencyCategory']\n",
    "\n",
    "# 定义一个映射字典，将综合分类映射为单一数字\n",
    "category_mapping = {\n",
    "    'Low Occasional': 1,\n",
    "    'Low Regular': 2,\n",
    "    'Low Frequent': 3,\n",
    "    'Medium Occasional': 4,\n",
    "    'Medium Regular': 5,\n",
    "    'Medium Frequent': 6,\n",
    "    'High Occasional': 7,\n",
    "    'High Regular': 8,\n",
    "    'High Frequent': 9\n",
    "}\n",
    "\n",
    "# 应用映射到综合分类，得到单一数字分类\n",
    "customer_analysis['SingleNumberCategory'] = customer_analysis['CustomerCategory'].map(category_mapping)\n",
    "\n",
    "# 显示包含综合分类及单一数字分类的结果的前几行\n",
    "customer_analysis[['CustomerID', 'AverageSpending', 'SpendingCategory', \n",
    "                   'PurchaseFrequency', 'FrequencyCategory', \n",
    "                   'CustomerCategory', 'SingleNumberCategory','Product']].head()\n"
   ]
  },
  {
   "cell_type": "code",
   "execution_count": null,
   "id": "94e4bdf5-f8d4-48bd-9163-4f52e111a4ae",
   "metadata": {},
   "outputs": [],
   "source": [
    "customer_analysis.to_csv('model.csv')"
   ]
  },
  {
   "cell_type": "markdown",
   "id": "28ca3ee0-9e27-439e-9699-bdea90626147",
   "metadata": {},
   "source": [
    "# 3. 对顾客价值分析完成特征构造，从而构建线性回归模型"
   ]
  },
  {
   "cell_type": "code",
   "execution_count": null,
   "id": "1dcb6442-dfb5-49df-8a81-7b48c8b739d7",
   "metadata": {},
   "outputs": [],
   "source": [
    "from sklearn.model_selection import train_test_split\n",
    "from sklearn.linear_model import LinearRegression\n",
    "from sklearn.metrics import mean_squared_error, r2_score\n",
    "\n",
    "classification_data_with_preferences = customer_analysis\n",
    "# Split the data into training and testing sets\n",
    "X = classification_data_with_preferences[['AverageSpending', 'PurchaseFrequency']]\n",
    "y = classification_data_with_preferences['SingleNumberCategory']\n",
    "\n",
    "\n",
    "X_train, X_test, y_train, y_test = train_test_split(X, y, test_size=0.2, random_state=42)\n",
    "\n",
    "X_train.fillna(X_train.mean(), inplace=True)  # 填充数值特征的缺失值\n",
    "# 对于分类特征，可以考虑使用众数\n",
    "y_train.fillna(y_train.mode()[0], inplace=True)  # 通常不推荐对目标变量这样做\n",
    "\n",
    "# Initialize and train the linear regression model\n",
    "lr_model = LinearRegression()\n",
    "lr_model.fit(X_train, y_train)\n",
    "\n",
    "# Predict on the test set\n",
    "y_pred = lr_model.predict(X_test)\n",
    "\n",
    "# Evaluate the model\n",
    "mse = mean_squared_error(y_test, y_pred)\n",
    "r2 = r2_score(y_test, y_pred)\n",
    "\n",
    "mse, r2"
   ]
  },
  {
   "cell_type": "markdown",
   "id": "8cceddb9-e10a-4de3-9a13-66fe56748775",
   "metadata": {},
   "source": [
    "# 模型已经成功训练，并且我们在测试集上进行了评估。评估结果如下：\n",
    "\n",
    "均方误差 (MSE): 2.7555\n",
    "决定系数 (R^2): 0.0460\n",
    "这里的决定系数（R^2）表示模型对数据拟合的程度。R^2的值越接近1，表示模型的拟合效果越好。在这个案例中，R^2值相对较低，这可能意味着模型对数据的拟合不是很好。这可能是因为我们的数据集相对较小，或者是因为目标变量（代金券金额）与特征之间的关联性不强。\n",
    "\n",
    "在实际应用中，您可能需要收集更多的数据来训练模型，或者考虑使用其他特征或方法来改进模型的性能。如果您需要，我可以保存这个模型，并提供一个简单的脚本来使用它来预测新的顾客的代金券金额。"
   ]
  },
  {
   "cell_type": "code",
   "execution_count": null,
   "id": "96c69c55-63cf-4ce7-beae-c038669fc12b",
   "metadata": {},
   "outputs": [],
   "source": [
    "from sklearn.tree import DecisionTreeRegressor\n",
    "from sklearn.ensemble import RandomForestRegressor\n",
    "\n",
    "# Create and train the Decision Tree Regressor model\n",
    "dtr_model = DecisionTreeRegressor(random_state=42)\n",
    "dtr_model.fit(X_train, y_train)\n",
    "\n",
    "# Make predictions and evaluate the model\n",
    "y_pred_dtr = dtr_model.predict(X_test)\n",
    "mse_dtr = mean_squared_error(y_test, y_pred_dtr)\n",
    "r2_dtr = r2_score(y_test, y_pred_dtr)\n",
    "\n",
    "# Create and train the Random Forest Regressor model\n",
    "\n",
    "rf_model = RandomForestRegressor(random_state=42)\n",
    "rf_model.fit(X_train, y_train)\n",
    "# Make predictions and evaluate the model\n",
    "y_pred_rf = rf_model.predict(X_test)\n",
    "mse_rf = mean_squared_error(y_test, y_pred_rf)\n",
    "r2_rf = r2_score(y_test, y_pred_rf)\n",
    "\n",
    "mse_dtr, r2_dtr, mse_rf, r2_rf"
   ]
  },
  {
   "cell_type": "markdown",
   "id": "b27ccd12-4779-4798-aa2a-ef97bbaa4f3e",
   "metadata": {},
   "source": [
    "# 4. 用随机森林模型评估模型性能"
   ]
  },
  {
   "cell_type": "code",
   "execution_count": null,
   "id": "151d32df-7a56-414a-be91-c7fc0bd0275a",
   "metadata": {},
   "outputs": [],
   "source": [
    "# Make predictions using the Random Forest Regressor model\n",
    "y_pred_final = rf_model.predict(X_test)\n",
    "\n",
    "# Display the actual and predicted values side by side for comparison\n",
    "comparison_df = pd.DataFrame({'Actual': y_test, 'Predicted': y_pred_final})\n",
    "comparison_df.head()"
   ]
  },
  {
   "cell_type": "markdown",
   "id": "9c37b44a-5d14-47d4-b168-e9cea7a17f0b",
   "metadata": {},
   "source": [
    "# 5. 设计一份优惠劵的投放策略,均衡考虑优惠券的数量，金额，投放时间段和投放商品种类等因素"
   ]
  },
  {
   "cell_type": "code",
   "execution_count": null,
   "id": "288777aa-f2e4-44d1-a652-4e59c660d6e7",
   "metadata": {},
   "outputs": [],
   "source": [
    "# Convert the 'Date' column to datetime format for easier analysis\n",
    "data['Date'] = pd.to_datetime(data['Date'])\n",
    "\n",
    "# Check the distribution of the 'Price' column to understand the range of prices\n",
    "price_distribution = data['Price'].describe()\n",
    "\n",
    "# Check the distribution of the 'Quantity' column to understand the range of quantities\n",
    "quantity_distribution = data['Quantity'].describe()\n",
    "\n",
    "# Check the distribution of the 'Date' column to understand the range of dates and identify peak times\n",
    "date_distribution = data['Date'].describe()\n",
    "\n",
    "price_distribution, quantity_distribution, date_distribution"
   ]
  },
  {
   "cell_type": "code",
   "execution_count": null,
   "id": "7343a25a-2a96-4f63-b752-061fb98510ce",
   "metadata": {},
   "outputs": [],
   "source": [
    "# Check the distribution of the 'Product' column to understand the range of product types and identify popular products\n",
    "product_distribution = data['Product'].value_counts()\n",
    "\n",
    "# Display the top 10 most popular products\n",
    "top_products = product_distribution.head(10)\n",
    "top_products"
   ]
  },
  {
   "cell_type": "code",
   "execution_count": null,
   "id": "862d21f2-96e9-466c-a40b-9a5f9786ab5a",
   "metadata": {},
   "outputs": [],
   "source": []
  }
 ],
 "metadata": {
  "kernelspec": {
   "display_name": "Python 3 (ipykernel)",
   "language": "python",
   "name": "python3"
  },
  "language_info": {
   "codemirror_mode": {
    "name": "ipython",
    "version": 3
   },
   "file_extension": ".py",
   "mimetype": "text/x-python",
   "name": "python",
   "nbconvert_exporter": "python",
   "pygments_lexer": "ipython3",
   "version": "3.11.8"
  }
 },
 "nbformat": 4,
 "nbformat_minor": 5
}
