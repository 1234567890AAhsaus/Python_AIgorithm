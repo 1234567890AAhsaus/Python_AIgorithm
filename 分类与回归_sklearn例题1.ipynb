{
 "cells": [
  {
   "cell_type": "code",
   "execution_count": null,
   "id": "005432bc-dc6c-4476-b3e4-9f26076d62a7",
   "metadata": {},
   "outputs": [],
   "source": [
    "from sklearn import datasets\n",
    "import seaborn as sns"
   ]
  },
  {
   "cell_type": "code",
   "execution_count": null,
   "id": "aee03cb0-f720-4270-aae9-c65525353639",
   "metadata": {},
   "outputs": [],
   "source": [
    "iris = sns.load_dataset(\"iris\")"
   ]
  },
  {
   "cell_type": "code",
   "execution_count": null,
   "id": "6be796e1-4b21-4377-8698-1abf32178cf3",
   "metadata": {},
   "outputs": [],
   "source": [
    "type(iris)"
   ]
  },
  {
   "cell_type": "code",
   "execution_count": null,
   "id": "1ef18b36-db31-4f8e-b404-dec98a7a59a6",
   "metadata": {},
   "outputs": [],
   "source": [
    "iris.head()"
   ]
  },
  {
   "cell_type": "code",
   "execution_count": null,
   "id": "3808f899-0765-4659-9f57-9673d2466151",
   "metadata": {},
   "outputs": [],
   "source": [
    "iris.info()"
   ]
  },
  {
   "cell_type": "code",
   "execution_count": null,
   "id": "19d5a6f9-5ed6-4bf9-8838-89270f889da8",
   "metadata": {},
   "outputs": [],
   "source": [
    "iris.shape"
   ]
  },
  {
   "cell_type": "code",
   "execution_count": null,
   "id": "05d38e36-48c8-48eb-9ca9-26715fcf181a",
   "metadata": {},
   "outputs": [],
   "source": [
    "iris.describe()"
   ]
  },
  {
   "cell_type": "code",
   "execution_count": null,
   "id": "7f29e50e-9b2c-4b67-a536-857f7c108773",
   "metadata": {},
   "outputs": [],
   "source": [
    "iris.species.value_counts()"
   ]
  },
  {
   "cell_type": "code",
   "execution_count": null,
   "id": "b16696cb-0c10-4b58-bc04-c6d76786a639",
   "metadata": {},
   "outputs": [],
   "source": [
    "sns.pairplot(data = iris, hue = \"species\")"
   ]
  },
  {
   "cell_type": "code",
   "execution_count": null,
   "id": "372ddfa6-7faf-4987-b6f9-0c2c9bfb703e",
   "metadata": {},
   "outputs": [],
   "source": [
    "iris_simple = iris.drop([\"sepal_length\", \"sepal_width\"], axis = 1)\n",
    "iris_simple.head()"
   ]
  },
  {
   "cell_type": "code",
   "execution_count": null,
   "id": "e87dc75f-15c9-4b19-90e3-ea28f44362ce",
   "metadata": {},
   "outputs": [],
   "source": [
    "from sklearn.preprocessing import LabelEncoder\n",
    "\n",
    "encoder = LabelEncoder()\n",
    "iris_simple[\"species\"] = encoder.fit_transform(iris_simple[\"species\"])"
   ]
  },
  {
   "cell_type": "code",
   "execution_count": null,
   "id": "c12aa126-44ea-4a95-84cf-4c977ff28d70",
   "metadata": {},
   "outputs": [],
   "source": [
    "iris_simple"
   ]
  },
  {
   "cell_type": "code",
   "execution_count": null,
   "id": "82f66e63-3c81-4193-a462-b6b0268d7205",
   "metadata": {},
   "outputs": [],
   "source": [
    "from sklearn.preprocessing import StandardScaler\n",
    "import pandas as pd"
   ]
  },
  {
   "cell_type": "code",
   "execution_count": null,
   "id": "1017188c-5117-478e-bca0-6564d44d8640",
   "metadata": {},
   "outputs": [],
   "source": [
    "trans = StandardScaler()\n",
    "_iris_simple = trans.fit_transform(iris_simple[[\"petal_length\", \"petal_width\"]])\n",
    "_iris_simple = pd.DataFrame(_iris_simple, columns = [\"petal_length\", \"petal_width\"])\n",
    "_iris_simple.describe()"
   ]
  },
  {
   "cell_type": "code",
   "execution_count": null,
   "id": "b8bdfd88-bd6d-42a7-a5e6-ec159a111320",
   "metadata": {},
   "outputs": [],
   "source": [
    "from sklearn.model_selection import train_test_split\n",
    "train_set, test_set = train_test_split(iris_simple, test_size = 0.2)\n",
    "test_set.head()"
   ]
  },
  {
   "cell_type": "code",
   "execution_count": null,
   "id": "9fdf3a89-8ef9-4f19-805c-b5474ea5891a",
   "metadata": {},
   "outputs": [],
   "source": [
    "iris_x_train = train_set[[\"petal_length\", \"petal_width\"]]\n",
    "iris_x_train.head()"
   ]
  },
  {
   "cell_type": "code",
   "execution_count": null,
   "id": "3a461cd9-501a-418c-b1d5-cc7d6cc8aa8a",
   "metadata": {},
   "outputs": [],
   "source": [
    "iris_y_train = train_set[\"species\"].copy()\n",
    "iris_y_train.head()"
   ]
  },
  {
   "cell_type": "code",
   "execution_count": null,
   "id": "eec3fdfb-c28c-472a-bebc-5f1b3be03c29",
   "metadata": {},
   "outputs": [],
   "source": [
    "iris_x_test = test_set[[\"petal_length\", \"petal_width\"]]\n",
    "iris_x_test.head()"
   ]
  },
  {
   "cell_type": "code",
   "execution_count": null,
   "id": "a73c402b-ee5b-461d-a689-d374f59771da",
   "metadata": {},
   "outputs": [],
   "source": [
    "iris_y_test = test_set[\"species\"].copy()\n",
    "iris_y_test.head()"
   ]
  },
  {
   "cell_type": "markdown",
   "id": "d104e6fb-4e5c-4462-a77e-bd8f9c767a1c",
   "metadata": {},
   "source": [
    "# k近邻算法"
   ]
  },
  {
   "cell_type": "code",
   "execution_count": null,
   "id": "01673672-8a27-478b-87a8-245c6eb46ce3",
   "metadata": {},
   "outputs": [],
   "source": [
    "from sklearn.neighbors import KNeighborsClassifier"
   ]
  },
  {
   "cell_type": "code",
   "execution_count": null,
   "id": "c563f277-d9d3-479f-a4d2-d17ce3f4aed4",
   "metadata": {},
   "outputs": [],
   "source": [
    "clf = KNeighborsClassifier()\n",
    "clf"
   ]
  },
  {
   "cell_type": "code",
   "execution_count": null,
   "id": "79215d2d-86f3-4211-868b-48e694f5a9a2",
   "metadata": {},
   "outputs": [],
   "source": [
    "clf.fit(iris_x_train, iris_y_train)"
   ]
  },
  {
   "cell_type": "code",
   "execution_count": null,
   "id": "9a1ddcec-ab09-434b-9769-4b9838b0a021",
   "metadata": {},
   "outputs": [],
   "source": [
    "res = clf.predict(iris_x_test)\n",
    "print(res)\n",
    "print(iris_y_test.values)"
   ]
  },
  {
   "cell_type": "code",
   "execution_count": null,
   "id": "636a8b12-e51b-4c8f-9e47-d1c3ca722d50",
   "metadata": {},
   "outputs": [],
   "source": [
    "encoder.inverse_transform(res)"
   ]
  },
  {
   "cell_type": "code",
   "execution_count": null,
   "id": "c1e1157e-ba86-4538-9adf-cbcc8f3dd4ed",
   "metadata": {},
   "outputs": [],
   "source": [
    "accuracy = clf.score(iris_x_test, iris_y_test)\n",
    "print(\"预测正确率:{:.0%}\".format(accuracy))"
   ]
  },
  {
   "cell_type": "code",
   "execution_count": null,
   "id": "cf3067f4-946b-4a5f-a35b-7bd6ec33ab53",
   "metadata": {},
   "outputs": [],
   "source": [
    "out = iris_x_test.copy()\n",
    "out[\"yy\"] = iris_y_test\n",
    "out[\"pre\"] = res\n",
    "out"
   ]
  },
  {
   "cell_type": "code",
   "execution_count": null,
   "id": "30ae8b42-6b64-4f57-b4d0-85ca15e915f1",
   "metadata": {},
   "outputs": [],
   "source": [
    "out.to_csv(\"iris_predict.csv\")"
   ]
  },
  {
   "cell_type": "code",
   "execution_count": null,
   "id": "d641465e-b6fd-4426-967d-1a53aaaab4e0",
   "metadata": {},
   "outputs": [],
   "source": [
    "import numpy as np\n",
    "import matplotlib as mpl\n",
    "import matplotlib.pyplot as plt"
   ]
  },
  {
   "cell_type": "code",
   "execution_count": null,
   "id": "726f172c-a139-437e-9e00-1ba701994fa9",
   "metadata": {},
   "outputs": [],
   "source": [
    "def draw(clf):\n",
    "    M, N = 500, 500\n",
    "    x1_min, x2_min = iris_simple[[\"petal_length\", \"petal_width\"]].min(axis=0)\n",
    "    x1_max, x2_max = iris_simple[[\"petal_length\", \"petal_width\"]].max(axis=0)\n",
    "    t1 = np.linspace(x1_min, x1_max, M)\n",
    "    t2 = np.linspace(x2_min, x2_max, N)\n",
    "    x1, x2 = np.meshgrid(t1, t2)\n",
    "\n",
    "    x_show = np.stack((x1.flat, x2.flat), axis = 1)\n",
    "    y_predict = clf.predict(x_show)\n",
    "\n",
    "    cm_light = mpl.colors.ListedColormap(['#0000FF', '#FFFF00', '#00FF00'])\n",
    "    cm_dark = mpl.colors.ListedColormap([\"g\", \"r\", \"b\"])\n",
    "\n",
    "    plt.figure(figsize = (10,6))\n",
    "    plt.pcolormesh(t1, t2, y_predict.reshape(x1.shape), cmap = cm_light)\n",
    "\n",
    "    plt.scatter(iris_simple[\"petal_length\"], iris_simple[\"petal_width\"], label = None,\n",
    "                c = iris_simple[\"species\"], cmap = cm_dark, marker = 'o', edgecolors = 'k')\n",
    "    plt.xlabel(\"petal_length\")\n",
    "    plt.ylabel(\"petal_width\")\n",
    "\n",
    "    color = [\"g\", \"r\", \"b\"]\n",
    "    species = [\"setosa\", \"virginica\", \"versicolor\"]\n",
    "    for i in range(3):\n",
    "        plt.scatter([], [], c = color[i], s = 40, label = species[i])\n",
    "    plt.legend(loc = \"best\")\n",
    "    plt.title('iris_classfier')"
   ]
  },
  {
   "cell_type": "code",
   "execution_count": null,
   "id": "82c8dc85-3c5f-49a1-b120-f7f83b25e071",
   "metadata": {},
   "outputs": [],
   "source": [
    "draw(clf)"
   ]
  },
  {
   "cell_type": "markdown",
   "id": "2bb0cce1-ca5a-440a-91a9-0e9b2732a459",
   "metadata": {},
   "source": [
    "# 朴素贝叶斯算法"
   ]
  },
  {
   "cell_type": "code",
   "execution_count": null,
   "id": "bde18cbd-7c04-4ee7-a8da-29294476029b",
   "metadata": {},
   "outputs": [],
   "source": [
    "from sklearn.naive_bayes import GaussianNB"
   ]
  },
  {
   "cell_type": "code",
   "execution_count": null,
   "id": "f14e40dc-e728-4629-89f8-8da0c51b7dc1",
   "metadata": {},
   "outputs": [],
   "source": [
    "clf = GaussianNB()\n",
    "clf"
   ]
  },
  {
   "cell_type": "code",
   "execution_count": null,
   "id": "d3bed9e2-0f66-4a4f-8f43-bbdeb3ce3a84",
   "metadata": {},
   "outputs": [],
   "source": [
    "clf.fit(iris_x_train, iris_y_train)"
   ]
  },
  {
   "cell_type": "code",
   "execution_count": null,
   "id": "74583f92-e0fc-4ac1-8121-c1b474bdd74b",
   "metadata": {},
   "outputs": [],
   "source": [
    "res = clf.predict(iris_x_test)\n",
    "print(res)\n",
    "print(iris_y_test.values)"
   ]
  },
  {
   "cell_type": "code",
   "execution_count": null,
   "id": "7da8949a-9c00-42f7-ad66-77c92f9a209e",
   "metadata": {},
   "outputs": [],
   "source": [
    "accuracy = clf.score(iris_x_test, iris_y_test)\n",
    "print(\"预测正确率:{:.0%}\".format(accuracy))"
   ]
  },
  {
   "cell_type": "code",
   "execution_count": null,
   "id": "28fb1b46-a06a-4ee1-b975-58c54eea6f33",
   "metadata": {},
   "outputs": [],
   "source": [
    "draw(clf)"
   ]
  },
  {
   "cell_type": "markdown",
   "id": "006de17d-9d33-4a9a-bdd1-b05318948b61",
   "metadata": {},
   "source": [
    "# 决策数算法"
   ]
  },
  {
   "cell_type": "code",
   "execution_count": null,
   "id": "334d663c-c34d-4b13-a69d-e9bacd8dad63",
   "metadata": {},
   "outputs": [],
   "source": [
    "from sklearn.tree import DecisionTreeClassifier"
   ]
  },
  {
   "cell_type": "code",
   "execution_count": null,
   "id": "bd5dc906-24a8-4b7c-8d8d-d73d8587d075",
   "metadata": {},
   "outputs": [],
   "source": [
    "clf = DecisionTreeClassifier()\n",
    "clf"
   ]
  },
  {
   "cell_type": "code",
   "execution_count": null,
   "id": "f9f767d5-61cd-4046-a2bb-3d0983418300",
   "metadata": {},
   "outputs": [],
   "source": [
    "clf.fit(iris_x_train, iris_y_train)"
   ]
  },
  {
   "cell_type": "code",
   "execution_count": null,
   "id": "b51e3e35-4d70-42df-a6e8-286164adcb92",
   "metadata": {},
   "outputs": [],
   "source": [
    "res = clf.predict(iris_x_test)\n",
    "print(res)\n",
    "print(iris_y_test.values)"
   ]
  },
  {
   "cell_type": "code",
   "execution_count": null,
   "id": "fefdaa71-1369-4e6b-aae9-2b408e30b6e9",
   "metadata": {},
   "outputs": [],
   "source": [
    "accuracy = clf.score(iris_x_test, iris_y_test)\n",
    "print(\"预测正确率:{:.0%}\".format(accuracy))"
   ]
  },
  {
   "cell_type": "code",
   "execution_count": null,
   "id": "698d9655-260a-4042-909b-9751e18057bd",
   "metadata": {},
   "outputs": [],
   "source": [
    "draw(clf)"
   ]
  },
  {
   "cell_type": "markdown",
   "id": "1dbc0a40-89f5-46be-9457-7595cfae64fa",
   "metadata": {},
   "source": [
    "# 逻辑回归算法"
   ]
  },
  {
   "cell_type": "code",
   "execution_count": null,
   "id": "f5ff43ea-d535-4f46-8d8e-208543544d45",
   "metadata": {},
   "outputs": [],
   "source": [
    "from sklearn.linear_model import LogisticRegression"
   ]
  },
  {
   "cell_type": "code",
   "execution_count": null,
   "id": "91c89ee1-1a2a-41a4-bab9-a63e43854449",
   "metadata": {},
   "outputs": [],
   "source": [
    "clf = LogisticRegression(solver='saga', max_iter = 1000)\n",
    "clf"
   ]
  },
  {
   "cell_type": "code",
   "execution_count": null,
   "id": "c827f132-10ee-4247-9f0a-68e0cebbf7be",
   "metadata": {},
   "outputs": [],
   "source": [
    "clf.fit(iris_x_train, iris_y_train)"
   ]
  },
  {
   "cell_type": "code",
   "execution_count": null,
   "id": "2be3349a-2074-482b-8e2b-3c188ed77ef6",
   "metadata": {},
   "outputs": [],
   "source": [
    "res = clf.predict(iris_x_test)\n",
    "print(res)\n",
    "print(iris_y_test.values)"
   ]
  },
  {
   "cell_type": "code",
   "execution_count": null,
   "id": "51f95c91-7cd6-4427-bf2b-001c66783eda",
   "metadata": {},
   "outputs": [],
   "source": [
    "accuracy = clf.score(iris_x_test, iris_y_test)\n",
    "print(\"预测正确率:{:.0%}\".format(accuracy))"
   ]
  },
  {
   "cell_type": "code",
   "execution_count": null,
   "id": "3fdfac83-28f8-4580-8fa3-23dc59d816ef",
   "metadata": {},
   "outputs": [],
   "source": [
    "draw(clf)"
   ]
  },
  {
   "cell_type": "markdown",
   "id": "f929cf86-6557-41af-90ca-37da9f05e028",
   "metadata": {},
   "source": [
    "# 支持向量机算法"
   ]
  },
  {
   "cell_type": "code",
   "execution_count": null,
   "id": "36750e08-1063-4df3-b6d6-73af3b371097",
   "metadata": {},
   "outputs": [],
   "source": [
    "from sklearn.svm import SVC"
   ]
  },
  {
   "cell_type": "code",
   "execution_count": null,
   "id": "0df2dfe5-e060-4615-a2ec-4060991e9c07",
   "metadata": {},
   "outputs": [],
   "source": [
    "clf = SVC()\n",
    "clf"
   ]
  },
  {
   "cell_type": "code",
   "execution_count": null,
   "id": "6cad9cc8-57e3-496d-b982-c2eb2c7592a1",
   "metadata": {},
   "outputs": [],
   "source": [
    "clf.fit(iris_x_train, iris_y_train)"
   ]
  },
  {
   "cell_type": "code",
   "execution_count": null,
   "id": "97e38985-c7b1-42ec-a467-48ffef4ac0e6",
   "metadata": {},
   "outputs": [],
   "source": [
    "res = clf.predict(iris_x_test)\n",
    "print(res)\n",
    "print(iris_y_test.values)"
   ]
  },
  {
   "cell_type": "code",
   "execution_count": null,
   "id": "b99e0353-4011-4c8f-8820-eba67ad37dfc",
   "metadata": {},
   "outputs": [],
   "source": [
    "accuracy = clf.score(iris_x_test, iris_y_test)\n",
    "print(\"预测正确率:{:.0%}\".format(accuracy))"
   ]
  },
  {
   "cell_type": "code",
   "execution_count": null,
   "id": "afec0935-1ad7-4234-997f-3a3e307cef34",
   "metadata": {},
   "outputs": [],
   "source": [
    "draw(clf)"
   ]
  },
  {
   "cell_type": "markdown",
   "id": "66b62149-05c8-4860-8c51-d0f48e0111fb",
   "metadata": {},
   "source": [
    "# 集成方法__随机森林"
   ]
  },
  {
   "cell_type": "code",
   "execution_count": null,
   "id": "eab9854d-0600-4701-b15f-3fa593b2c7d0",
   "metadata": {},
   "outputs": [],
   "source": [
    "from sklearn.ensemble import RandomForestClassifier"
   ]
  },
  {
   "cell_type": "code",
   "execution_count": null,
   "id": "cd6bc4d2-46eb-498c-b4dd-f3f20e0aeb09",
   "metadata": {},
   "outputs": [],
   "source": [
    "clf = RandomForestClassifier()\n",
    "clf"
   ]
  },
  {
   "cell_type": "code",
   "execution_count": null,
   "id": "2bbeada6-2927-43af-baac-09a89e834ad8",
   "metadata": {},
   "outputs": [],
   "source": [
    "clf.fit(iris_x_train, iris_y_train)"
   ]
  },
  {
   "cell_type": "code",
   "execution_count": null,
   "id": "229b4834-60fc-4304-85e5-e3ad4b07a88e",
   "metadata": {},
   "outputs": [],
   "source": [
    "res = clf.predict(iris_x_test)\n",
    "print(res)\n",
    "print(iris_y_test.values)"
   ]
  },
  {
   "cell_type": "code",
   "execution_count": null,
   "id": "10d524eb-a5ec-4bab-b417-43267f522070",
   "metadata": {},
   "outputs": [],
   "source": [
    "accuracy = clf.score(iris_x_test, iris_y_test)\n",
    "print(\"预测正确率:{:.0%}\".format(accuracy))"
   ]
  },
  {
   "cell_type": "code",
   "execution_count": null,
   "id": "07d76c75-5eb2-43cf-8f62-62daa070b7be",
   "metadata": {},
   "outputs": [],
   "source": [
    "draw(clf)"
   ]
  },
  {
   "cell_type": "markdown",
   "id": "f67b35c0-537e-4a55-b267-3547c25b56c5",
   "metadata": {},
   "source": [
    "# 集成方法--Adaboost"
   ]
  },
  {
   "cell_type": "code",
   "execution_count": null,
   "id": "b4ffd189-c8b5-4d7a-ab0b-81e599eb4235",
   "metadata": {},
   "outputs": [],
   "source": [
    "from sklearn.ensemble import AdaBoostClassifier\n",
    "from sklearn.naive_bayes import GaussianNB"
   ]
  },
  {
   "cell_type": "code",
   "execution_count": null,
   "id": "38c8a2ba-49d0-47c5-900f-f2421792ec7c",
   "metadata": {},
   "outputs": [],
   "source": [
    "clf = AdaBoostClassifier()\n",
    "clf"
   ]
  },
  {
   "cell_type": "code",
   "execution_count": null,
   "id": "71e5b508-a171-41ee-97b4-a76894df6795",
   "metadata": {},
   "outputs": [],
   "source": [
    "clf.fit(iris_x_train, iris_y_train)"
   ]
  },
  {
   "cell_type": "code",
   "execution_count": null,
   "id": "2d043f8b-c1bc-41ec-932f-792c65f6d596",
   "metadata": {},
   "outputs": [],
   "source": [
    "res = clf.predict(iris_x_test)\n",
    "print(res)\n",
    "print(iris_y_test.values)"
   ]
  },
  {
   "cell_type": "code",
   "execution_count": null,
   "id": "6d526fdb-5113-48f8-97f0-eba618bc9a3f",
   "metadata": {},
   "outputs": [],
   "source": [
    "accuracy = clf.score(iris_x_test, iris_y_test)\n",
    "print(\"预测正确率:{:.0%}\".format(accuracy))"
   ]
  },
  {
   "cell_type": "code",
   "execution_count": null,
   "id": "4367930f-8c2f-4f44-9af2-616caca529dd",
   "metadata": {},
   "outputs": [],
   "source": [
    "draw(clf)"
   ]
  },
  {
   "cell_type": "markdown",
   "id": "dbfd98bc-4139-4880-9420-5799078ea04d",
   "metadata": {},
   "source": [
    "# 集成方案--梯度提升树GBDT"
   ]
  },
  {
   "cell_type": "code",
   "execution_count": null,
   "id": "0b604d12-c515-4314-87ab-f63a9bc17d1a",
   "metadata": {},
   "outputs": [],
   "source": [
    "from sklearn.ensemble import GradientBoostingClassifier"
   ]
  },
  {
   "cell_type": "code",
   "execution_count": null,
   "id": "130a744e-7df8-4aa8-a532-cfe65ff15187",
   "metadata": {},
   "outputs": [],
   "source": [
    "clf = GradientBoostingClassifier()\n",
    "clf"
   ]
  },
  {
   "cell_type": "code",
   "execution_count": null,
   "id": "a4ddafb3-fa29-45f6-9247-9330009e8d41",
   "metadata": {},
   "outputs": [],
   "source": [
    "clf.fit(iris_x_train, iris_y_train)"
   ]
  },
  {
   "cell_type": "code",
   "execution_count": null,
   "id": "2cce3b12-364a-417e-ace1-442546223f97",
   "metadata": {},
   "outputs": [],
   "source": [
    "res = clf.predict(iris_x_test)\n",
    "print(res)\n",
    "print(iris_y_test.values)"
   ]
  },
  {
   "cell_type": "code",
   "execution_count": null,
   "id": "f03eddb7-5525-46e5-bdb1-ccdad913d6a2",
   "metadata": {},
   "outputs": [],
   "source": [
    "accuracy = clf.score(iris_x_test, iris_y_test)\n",
    "print(\"预测正确率:{:.0%}\".format(accuracy))"
   ]
  },
  {
   "cell_type": "code",
   "execution_count": null,
   "id": "b5aafe3d-8134-41bb-89b7-821e54890cca",
   "metadata": {},
   "outputs": [],
   "source": [
    "draw(clf)"
   ]
  },
  {
   "cell_type": "code",
   "execution_count": null,
   "id": "7205039f-ab82-40a0-a115-9609d197f7bc",
   "metadata": {},
   "outputs": [],
   "source": []
  }
 ],
 "metadata": {
  "kernelspec": {
   "display_name": "Python 3 (ipykernel)",
   "language": "python",
   "name": "python3"
  },
  "language_info": {
   "codemirror_mode": {
    "name": "ipython",
    "version": 3
   },
   "file_extension": ".py",
   "mimetype": "text/x-python",
   "name": "python",
   "nbconvert_exporter": "python",
   "pygments_lexer": "ipython3",
   "version": "3.11.8"
  }
 },
 "nbformat": 4,
 "nbformat_minor": 5
}
